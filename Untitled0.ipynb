{
  "nbformat": 4,
  "nbformat_minor": 0,
  "metadata": {
    "colab": {
      "name": "Untitled0.ipynb",
      "provenance": [],
      "toc_visible": true,
      "authorship_tag": "ABX9TyONp/HdF93mYwF/iL1rzUDS",
      "include_colab_link": true
    },
    "kernelspec": {
      "name": "python3",
      "display_name": "Python 3"
    },
    "language_info": {
      "name": "python"
    }
  },
  "cells": [
    {
      "cell_type": "markdown",
      "metadata": {
        "id": "view-in-github",
        "colab_type": "text"
      },
      "source": [
        "<a href=\"https://colab.research.google.com/github/OCTAVIAKOMSKAIKRU/solid-octo-succotash/blob/main/Untitled0.ipynb\" target=\"_parent\"><img src=\"https://colab.research.google.com/assets/colab-badge.svg\" alt=\"Open In Colab\"/></a>"
      ]
    },
    {
      "cell_type": "code",
      "execution_count": null,
      "metadata": {
        "colab": {
          "base_uri": "https://localhost:8080/"
        },
        "id": "zxnHPKt_C7I9",
        "outputId": "334ed886-addd-478f-a9c7-a3570ae13754"
      },
      "outputs": [
        {
          "output_type": "stream",
          "name": "stdout",
          "text": [
            "There was a man named Mathebula.\n",
            "Looking for a team to join in the summer and due to him being of the age of 28, he will have join the senior group. \n",
            "We then informed Mr Mathebula about the outcome of his enquire. \n"
          ]
        }
      ],
      "source": [
        "#ysing strings and variables function in your python program\n",
        "\n",
        "my_name = \"Mathebula\"\n",
        "my_age = \"28\"\n",
        "print(\"There was a man named \" + my_name + \".\")\n",
        "print(\"Looking for a team to join in the summer and due to him being of the age of \" + my_age + \", he will have join the senior group. \" )\n",
        "print(\"We then informed Mr \" + my_name + \" about the outcome of his enquire. \")"
      ]
    },
    {
      "cell_type": "markdown",
      "source": [
        ""
      ],
      "metadata": {
        "id": "8_MewcNhG_BZ"
      }
    },
    {
      "cell_type": "code",
      "source": [
        "my_name = \"Messi\"\n",
        "my_age = \"34\"\n",
        "\n",
        "print(\"The GOAT \"+ my_name + \" has been the best palyer in world for the past 15 years.\")\n",
        "print(\"In 2022 he is still showing and proving his undoubted worth to the game at the tender age of \" + my_age + \".\")\n",
        "\n",
        "my_name = \"Lionel\"\n",
        "\n",
        "print (\"When asked about his football carrer as he looks back, \" + my_name + \" appreciated the acces football allowed to recive and give aswell .\")\n",
        "print (\"What was fuuny was that he didnt belive he was \" + my_age + \"already.\")"
      ],
      "metadata": {
        "colab": {
          "base_uri": "https://localhost:8080/"
        },
        "id": "fR-ACPdKHEy_",
        "outputId": "1b4997aa-b728-468d-a8c9-d455715d6a69"
      },
      "execution_count": null,
      "outputs": [
        {
          "output_type": "stream",
          "name": "stdout",
          "text": [
            "The GOAT Messi has been the best palyer in world for the past 15 years.\n",
            "In 2022 he is still showing and proving his undoubted worth to the game at the tender age of 34.\n",
            "When asked about his football carrer as he looks back, Lionel appreciated the acces football allowed to recive and give aswell .\n",
            "What was fuuny was that he didnt belive he was 34already.\n"
          ]
        }
      ]
    },
    {
      "cell_type": "code",
      "source": [
        "# working with input values and phrase function\n",
        "\n",
        "phrase = \"Total Academy\"\n",
        "print(phrase + \" is the best academy in world.\")"
      ],
      "metadata": {
        "colab": {
          "base_uri": "https://localhost:8080/"
        },
        "id": "G-J6sfQwKCgS",
        "outputId": "8fd6e66c-06f0-407c-9842-b3ddef825cef"
      },
      "execution_count": null,
      "outputs": [
        {
          "output_type": "stream",
          "name": "stdout",
          "text": [
            "Total Academy is the best academy in world.\n"
          ]
        }
      ]
    },
    {
      "cell_type": "code",
      "source": [
        "phrase = \"Total academy\"\n",
        "print(phrase.lower())"
      ],
      "metadata": {
        "colab": {
          "base_uri": "https://localhost:8080/"
        },
        "id": "ZShzj4lILeuQ",
        "outputId": "93afe254-037a-45da-dc0e-28c2afdb7eee"
      },
      "execution_count": null,
      "outputs": [
        {
          "output_type": "stream",
          "name": "stdout",
          "text": [
            "total academy\n"
          ]
        }
      ]
    },
    {
      "cell_type": "code",
      "source": [
        "phrase = \"Total Academy\"\n",
        "print(phrase.upper())"
      ],
      "metadata": {
        "colab": {
          "base_uri": "https://localhost:8080/"
        },
        "id": "o4EPxq_eL0SB",
        "outputId": "0aad824e-d701-49a6-9d1d-a95f2ab00646"
      },
      "execution_count": null,
      "outputs": [
        {
          "output_type": "stream",
          "name": "stdout",
          "text": [
            "TOTAL ACADEMY\n"
          ]
        }
      ]
    },
    {
      "cell_type": "code",
      "source": [
        "phrase = \"Total Academy\"\n",
        "print(phrase.upper().isupper())"
      ],
      "metadata": {
        "colab": {
          "base_uri": "https://localhost:8080/"
        },
        "id": "QTWxn3o3NNwk",
        "outputId": "71edd0b2-5305-4559-c8d2-15b8811b62ff"
      },
      "execution_count": null,
      "outputs": [
        {
          "output_type": "stream",
          "name": "stdout",
          "text": [
            "True\n"
          ]
        }
      ]
    },
    {
      "cell_type": "code",
      "source": [
        "phrase = \"Total Academy\"\n",
        "print(len(phrase))"
      ],
      "metadata": {
        "colab": {
          "base_uri": "https://localhost:8080/"
        },
        "id": "bfN9CgS5Qody",
        "outputId": "59c18a7d-e17c-4da0-972b-89bdc43baf76"
      },
      "execution_count": null,
      "outputs": [
        {
          "output_type": "stream",
          "name": "stdout",
          "text": [
            "13\n"
          ]
        }
      ]
    },
    {
      "cell_type": "code",
      "source": [
        "phrase = \"total Academy\"\n",
        "print((phrase[7]))"
      ],
      "metadata": {
        "colab": {
          "base_uri": "https://localhost:8080/"
        },
        "id": "vC-w080vQ0X9",
        "outputId": "5c24b625-2c58-497b-a1c1-6b59f9a1ac6b"
      },
      "execution_count": null,
      "outputs": [
        {
          "output_type": "stream",
          "name": "stdout",
          "text": [
            "c\n"
          ]
        }
      ]
    },
    {
      "cell_type": "code",
      "source": [
        "phrase = \"Total Academy\"\n",
        "print =(phrase.index[\"d\"])"
      ],
      "metadata": {
        "id": "LL8L-BHERJhI"
      },
      "execution_count": null,
      "outputs": []
    },
    {
      "cell_type": "code",
      "source": [
        "phrase = \"Total Academy\"\n",
        "print(phrase.replace(\"Total\" , \"Stars\"))"
      ],
      "metadata": {
        "colab": {
          "base_uri": "https://localhost:8080/"
        },
        "id": "5Dkn2UcjTVXD",
        "outputId": "4e9f6da3-bb46-46fa-fe47-17c84ddcb978"
      },
      "execution_count": null,
      "outputs": [
        {
          "output_type": "stream",
          "name": "stdout",
          "text": [
            "Stars Academy\n"
          ]
        }
      ]
    },
    {
      "cell_type": "code",
      "source": [
        "# We are going to be putting our skills we have learnt so far to test by building a miniture input-user game (MADLIB POEM)\n",
        "\n",
        "my_Color= input(\"Enter a color :\")\n",
        "my_Name= input(\"Enter a name :\")\n",
        "Plural_noun = input(\"Enter a plural_noun :\")\n",
        "\n",
        "print =(\"Roses are\" +my_Color)\n",
        "print =(Plural_noun +\"are blue\")\n",
        "print =(\"I love\" +my_Name)"
      ],
      "metadata": {
        "colab": {
          "base_uri": "https://localhost:8080/"
        },
        "id": "SlV8OAm6Tzlo",
        "outputId": "abdfeb99-1673-4d07-a4de-3bdf4e0c9967"
      },
      "execution_count": null,
      "outputs": [
        {
          "name": "stdout",
          "output_type": "stream",
          "text": [
            "Enter a color :red\n",
            "Enter a name :Chowder\n",
            "Enter a plural_noun :Violet\n"
          ]
        }
      ]
    },
    {
      "cell_type": "code",
      "source": [
        "phrase =\"Total Academy\"\n",
        "print(phrase.index (\"Acad\"))"
      ],
      "metadata": {
        "colab": {
          "base_uri": "https://localhost:8080/"
        },
        "id": "NCsH21_5SoN3",
        "outputId": "092abde8-6ff7-4f43-cbbe-a1c4928d70fc"
      },
      "execution_count": null,
      "outputs": [
        {
          "output_type": "stream",
          "name": "stdout",
          "text": [
            "6\n"
          ]
        }
      ]
    },
    {
      "cell_type": "code",
      "source": [
        "#we going to using numbers and math , in order for use to use those function we are going to have to import certain python function.\n",
        "\n",
        "from math import*\n",
        "\n",
        "my_number = 4.5\n",
        "print(floor(4.5))\n"
      ],
      "metadata": {
        "colab": {
          "base_uri": "https://localhost:8080/"
        },
        "id": "HlukzLPuNvFi",
        "outputId": "b67ef70d-9d19-4a1c-ca59-c5c49e59c380"
      },
      "execution_count": null,
      "outputs": [
        {
          "output_type": "stream",
          "name": "stdout",
          "text": [
            "4\n"
          ]
        }
      ]
    },
    {
      "cell_type": "code",
      "source": [
        "from math import*\n",
        "\n",
        "my_number = 45\n",
        "print(sqrt(45))"
      ],
      "metadata": {
        "colab": {
          "base_uri": "https://localhost:8080/"
        },
        "id": "FQTWg4pwPNj9",
        "outputId": "de861af7-b61f-45df-d4ef-0ccbb41bb4d2"
      },
      "execution_count": null,
      "outputs": [
        {
          "output_type": "stream",
          "name": "stdout",
          "text": [
            "6.708203932499369\n"
          ]
        }
      ]
    },
    {
      "cell_type": "code",
      "source": [
        "from math import*\n",
        "\n",
        "my_number = (-5)\n",
        "print(ceil(-5))"
      ],
      "metadata": {
        "colab": {
          "base_uri": "https://localhost:8080/"
        },
        "id": "UZTljcD_PeKL",
        "outputId": "f3ac17c0-45f4-4c8b-9910-c418ec52dd27"
      },
      "execution_count": null,
      "outputs": [
        {
          "output_type": "stream",
          "name": "stdout",
          "text": [
            "-5\n"
          ]
        }
      ]
    },
    {
      "cell_type": "code",
      "source": [
        "# We can use () to specify the order of operation.\n",
        " \n",
        "from math import*\n",
        "\n",
        "print =(3*(4+5))"
      ],
      "metadata": {
        "id": "uw_VxQboQGYP"
      },
      "execution_count": null,
      "outputs": []
    },
    {
      "cell_type": "code",
      "source": [
        "# We are going to take information by the user in our inputs and store them as variables.\n",
        "\n",
        "my_name = input(\"Enter your name : \")\n",
        "print =(\"Hello\"+my_name)"
      ],
      "metadata": {
        "colab": {
          "base_uri": "https://localhost:8080/"
        },
        "id": "jwzYC2MoZ4nc",
        "outputId": "0a6a0786-e77f-4af4-9022-2ef7825b8d69"
      },
      "execution_count": null,
      "outputs": [
        {
          "name": "stdout",
          "output_type": "stream",
          "text": [
            "Enter your name :  Thabang\n"
          ]
        }
      ]
    },
    {
      "cell_type": "code",
      "source": [
        "# We can also also convert the numbers stored as variables and convert them into strings using ().\n",
        "\n",
        "my_number = 5\n",
        "print = (str(my_number))\n",
        "\n",
        "#Also\n",
        "\n",
        "my_number = 5\n",
        "print = (str(my_number) + \" is my favourite number\")\n",
        "\n"
      ],
      "metadata": {
        "id": "Dc-3DfJasOGW"
      },
      "execution_count": null,
      "outputs": []
    },
    {
      "cell_type": "code",
      "source": [
        "# Function for numbers\n",
        "\n",
        "pow\n",
        "max/min\n",
        "round"
      ],
      "metadata": {
        "id": "92j2eIAytHM_"
      },
      "execution_count": null,
      "outputs": []
    },
    {
      "cell_type": "code",
      "source": [
        "# LISTS\n",
        "\n",
        "# A structure we use to store huge data whlist organizing and keeping track of them []\n",
        "\n",
        "# With lists the order in numerical order ascends(0,1,2..) , then feom the rear of the list it decends from -1 onwards.\n",
        "\n",
        "my_friends = [\"me\" , \"myself\" , \"chowder\"]\n",
        "print = (my_friends)\n",
        "\n",
        "# For us to then find an index in the list\n",
        "\n",
        "my_fiends = [\"me\",\"myself\",\"chowder\"]\n",
        "my_friends = (my_friends[1])\n",
        "\n",
        "\n",
        "# For us to move up the list we use the bolean function \n",
        "\n",
        "my_friends = [\"me\",\"myself\",\"chowder\"]\n",
        "print =(my_friends[1:])\n",
        "\n",
        "\n",
        "# To modify any specific elelment within the list\n",
        "\n",
        "my_friends = [\"me\",\"myself\",\"chowder\"]\n",
        "my_friends[1] = \"kamo\"\n",
        "print = (my_friends[1])"
      ],
      "metadata": {
        "id": "0cJ2Buk9t0UT"
      },
      "execution_count": null,
      "outputs": []
    },
    {
      "cell_type": "code",
      "source": [
        "# We are going to viewing and exploring more list functions within python\n",
        "\n",
        "\n",
        "Lucky_number = [4,12,33,3]\n",
        "my_friends = [\"me\",\"myself\",\"chowder\"]\n",
        "\n",
        "my_friends.remove  (\"me\")\n",
        "print = (my_friends)\n",
        "\n",
        "# Then in order to remove all elements in the list\n",
        "my_friends = [\"me\",\"myself\",\"chowder\"] \n",
        "my_friends.clear\n",
        "print = (my_friends)\n",
        "\n",
        "\n",
        "# We can use the index function to figure out at certain element in list\n",
        "\n",
        "my_friends = [\"me\",\"myself\",\"chowder\"]\n",
        "print = (my_friends.index(\"me\"))\n",
        "\n",
        "# To recall the amount of times an element appears on a list\n",
        "\n",
        "my_friends = [\"me\",\"myself\",\"chowder\"]\n",
        "print = (my_friends.count(\"me\"))\n",
        "\n",
        "\n",
        "# to put the elements in side the lists in ascending order\n",
        "\n",
        "my_friends = [\"me\",\"myself\",\"chowder\"]\n",
        "my_friends.sort()\n",
        "print = (my_friends)\n",
        "\n",
        "\n",
        "# To copy a list\n",
        "\n",
        "my_friends = [\"me\",\"myself\",\"chowder\"]\n",
        "my_friends2 = my_friends.copy()\n",
        "print = (my_friends)\n"
      ],
      "metadata": {
        "id": "oJ94hsiavdkl"
      },
      "execution_count": null,
      "outputs": []
    },
    {
      "cell_type": "code",
      "source": [
        "#TUPLES\n",
        "\n",
        "# A type of container that can contain various elements similar to lists\n",
        "\n",
        "# The only difference being it unable to be modified once coded\n"
      ],
      "metadata": {
        "id": "FOZLZ5Jz8fYf"
      },
      "execution_count": null,
      "outputs": []
    },
    {
      "cell_type": "code",
      "source": [
        "#FUNCTIONS\n",
        "\n",
        "# A collection o code to perform a specifc tasks\n",
        "\n",
        "# The code that goes into this function needs to be indented.\n",
        "\n",
        "def sayhi():\n",
        "    \n",
        "    print = (\"hello user\")\n",
        "\n",
        "sayhi()\n",
        "\n",
        "#Complex?\n",
        "\n",
        "def sayhi():\n",
        "  print = (\"to\")\n",
        "\n",
        "\n",
        "print = (\"Welcome\")\n",
        "sayhi()\n",
        "print = (\"the future\")\n",
        "\n",
        "\n",
        "# Then when we want to add infromation to the function we use a certain word named \"PARAMETERS\"\n",
        "\n",
        "def  sayhi(name):\n",
        "  print = (\"Good day\" + name)\n",
        "\n",
        "sayhi(\"kamogelo\")\n",
        "\n",
        "# you can add as many parameters as you can to the function."
      ],
      "metadata": {
        "id": "lVq0VSHvBJSI"
      },
      "execution_count": null,
      "outputs": []
    },
    {
      "cell_type": "code",
      "source": [
        "# RETURN STATEMENTS \n",
        "\n",
        "# When we want to recall information back from the function\n",
        "\n",
        "\n",
        "def cube(num) :\n",
        "    return  num*num*num\n",
        "\n",
        "result = cube(4)\n",
        "print =(result)"
      ],
      "metadata": {
        "id": "A3yPNomWEgtd"
      },
      "execution_count": null,
      "outputs": []
    },
    {
      "cell_type": "code",
      "source": [
        "# IF STATEMENTS\n",
        "\n",
        "# Using this we could assit programs into decision making.\n",
        "\n",
        "# We can have a certain condition and if that statement is true we cthen could act on that condition.\n",
        "\n",
        "# CASE STUDY\n",
        "\n",
        "# I am at the resturant\n",
        "# if i want meat \n",
        "   # i order a steak \n",
        "# otherwise if i want pasta   # we use else or elif in python when the first command true\n",
        "   # i order spagetti and meatballs\n",
        "# othrwise\n",
        "   # i order a salad\n",
        "\n",
        "\n",
        "\n",
        "# Let us create a basic form of \"if statements\"\n",
        "\n",
        "# creating a bolean variable that can state whether the user is MALE\n",
        "\n",
        "# ...so when there is indentation and the bellow condition corolate with the TRUE variable, the program will run.\n",
        "\n",
        "\n",
        "\n",
        "is_male = True\n",
        "\n",
        "if is_male :\n",
        "  print (\"You are male\")\n",
        "\n",
        "\n",
        "\n"
      ],
      "metadata": {
        "colab": {
          "base_uri": "https://localhost:8080/"
        },
        "id": "xYktm3XrF7z9",
        "outputId": "b826b52e-1958-4aeb-e80e-9a489574bf82"
      },
      "execution_count": null,
      "outputs": [
        {
          "output_type": "stream",
          "name": "stdout",
          "text": [
            "You are male\n"
          ]
        }
      ]
    },
    {
      "cell_type": "code",
      "source": [
        "# Then if the indented condition isnt corallting with the variable\n",
        "\n",
        "is_male = False\n",
        "\n",
        "if is_male :\n",
        "  print (\"You are male\")\n",
        "\n",
        "else :\n",
        "  print (\"You are not a male\")"
      ],
      "metadata": {
        "colab": {
          "base_uri": "https://localhost:8080/"
        },
        "id": "bhHeXbABjgsg",
        "outputId": "5d6e78ad-8b15-4f77-f87c-9eca3c29ecad"
      },
      "execution_count": null,
      "outputs": [
        {
          "output_type": "stream",
          "name": "stdout",
          "text": [
            "You are not a male\n"
          ]
        }
      ]
    },
    {
      "cell_type": "code",
      "source": [
        "# Then in order for us to attend and evaluate more scenarios we use a BOOL called \"elif\"\n",
        "\n",
        "is_male = False\n",
        "is_tall = True\n",
        "\n",
        "if is_male and is_tall :\n",
        "  print(\"You are a tall male.\")\n",
        "elif is_male and not is_tall :\n",
        "  print(\"You arent a tall male\")\n",
        "elif not is_male and is_tall :\n",
        "  print(\"You are tall but arent male\")\n",
        "\n",
        "else :\n",
        "  print(\"You neither a male or tall\")"
      ],
      "metadata": {
        "colab": {
          "base_uri": "https://localhost:8080/"
        },
        "id": "O5bTZE2XkI7U",
        "outputId": "b4c4673b-aaa1-482f-a63f-48b2b9485a9b"
      },
      "execution_count": null,
      "outputs": [
        {
          "output_type": "stream",
          "name": "stdout",
          "text": [
            "You are tall but arent male\n"
          ]
        }
      ]
    },
    {
      "cell_type": "code",
      "source": [
        "# Comparison Operators\n",
        "\n",
        "# We are going to be creating a python function which its main purpose is to give a max number\n",
        "\n",
        "# By taking in 3 parameters as inputs and print out the largest digit.\n",
        "\n",
        "def .max_num(num1, num2, num3)\n",
        "\n",
        "# We are also going to be using this (>=) comparison operator.\n",
        "\n",
        "if num1 >= num1 and num2 >= num3\n",
        "     return num1\n",
        "\n",
        "elif : num2 >= num1 and num2 >= num3\n",
        "     return num2\n",
        "\n",
        "else :\n",
        "  numb3\n",
        "\n",
        "print : (max_num(10,3,22))\n",
        "\n",
        "\n",
        "\n"
      ],
      "metadata": {
        "id": "cae7Ie8Jlw_Z"
      },
      "execution_count": null,
      "outputs": []
    },
    {
      "cell_type": "code",
      "source": [
        "# DICTIONARY\n",
        "\n",
        "# Give it a name and within curved{} brackets.\n",
        "\n",
        "#...within those brackets are keys which is represented by their values.\n",
        "\n",
        "# Do not dupliacte the keys within a dictionary.\n",
        "\n",
        "\n",
        "monthConversions = {\n",
        "\n",
        "\"JAN\" : \"January\",\n",
        "\"FEB\" : \"February\",\n",
        "\"MAR\" : \"March\",\n",
        "\"APR\" : \"April\",\n",
        "\"MA\"  : \"May\",\n",
        "\"JUN\" : \"June\",\n",
        "\"JUL\" : \"July\",\n",
        "\"AUG\" : \"August\",\n",
        "\"SEP\" : \"September\",\n",
        "\"OCT\" : \"October\",\n",
        "\"NOV\" : \"November\",\n",
        "\"DEC\" : \"December\", \n",
        "\n",
        "}\n",
        "print(monthConversions[\"NOV\"])"
      ],
      "metadata": {
        "colab": {
          "base_uri": "https://localhost:8080/"
        },
        "id": "T70Xlp6pcwQc",
        "outputId": "40a4202c-041f-490a-c2d7-fa417c39b48b"
      },
      "execution_count": null,
      "outputs": [
        {
          "output_type": "stream",
          "name": "stdout",
          "text": [
            "November\n"
          ]
        }
      ]
    },
    {
      "cell_type": "code",
      "source": [
        "#WILD LOOPS\n",
        "\n",
        "# The function of the loop will depend on the comparison operartors for diffrent sceniorios.\n",
        "\n",
        "i = 1\n",
        "while 1>=10:\n",
        "  print(i)\n",
        "i += 1\n",
        "\n",
        "print(\"Done with loop\")"
      ],
      "metadata": {
        "colab": {
          "base_uri": "https://localhost:8080/"
        },
        "id": "AjT9D1gpkQiT",
        "outputId": "0b7fbc3c-0d45-46b4-d2ad-99f15d383071"
      },
      "execution_count": null,
      "outputs": [
        {
          "output_type": "stream",
          "name": "stdout",
          "text": [
            "Done with loop\n"
          ]
        }
      ]
    },
    {
      "cell_type": "code",
      "source": [
        "secret_word = \"dog\"\n",
        "guess_word  = \"\"\n",
        "\n",
        "while  guess != secret_word :\n",
        "  guess = input(\"enter guess\")\n",
        "\n",
        "\n",
        "print(\"You win!\")\n"
      ],
      "metadata": {
        "id": "Mo1hkYHFr_G4"
      },
      "execution_count": null,
      "outputs": []
    },
    {
      "cell_type": "code",
      "source": [
        "# We are going to be structuring another coded game that will allow us to use our recent acquired skills.\n",
        "\n",
        "# For example if statements, variables, wild loops just to name a few.\n",
        "\n",
        "# This will be a \"Guessing game\" , which will alow us to store a secret word or value.\n",
        "\n",
        "# Giving the user the oppertuntity to select and guess the value or word.\n",
        "\n",
        "#our chosen one\n",
        "secret_word = \"chowder\"\n",
        "# The user input value \n",
        "guess_word  = \"\"\n",
        "# We will be incoding a line that will give the user 3 tries.\n",
        "guess_count = 0\n",
        "#This will be the limit of tries the user can input\n",
        "guess_limit = 3\n",
        "# The response to the code until the user is out of guesses(3)\n",
        "out_of_guesses = False\n",
        "\n",
        "\n",
        "while guess != secret_word and not(out_of_guesses):\n",
        "  if guess_count < guess_limit:\n",
        "   guess = input(\"enter word/value\")\n",
        "   guess_count += 1\n",
        "\n",
        "else :\n",
        "  out_of_guesses = True\n",
        "\n",
        "\n",
        "  if out_of_guesses :\n",
        "   print(\"You Lose!\")\n",
        "  else :\n",
        "     print(\"You win!\")\n",
        "\n"
      ],
      "metadata": {
        "id": "M2SwKON4mAYy"
      },
      "execution_count": null,
      "outputs": []
    },
    {
      "cell_type": "code",
      "source": [
        "# For Loops\n",
        "\n",
        "# This will allow us to continuosly loop over various collections of items within the function.\n",
        "\n",
        "for letter in \"Thabang\" :\n",
        "  print(letter)"
      ],
      "metadata": {
        "colab": {
          "base_uri": "https://localhost:8080/"
        },
        "id": "DLHJz5YMtWzQ",
        "outputId": "f09f3604-b34f-45cd-d378-1f915a30a996"
      },
      "execution_count": null,
      "outputs": [
        {
          "output_type": "stream",
          "name": "stdout",
          "text": [
            "T\n",
            "h\n",
            "a\n",
            "b\n",
            "a\n",
            "n\n",
            "g\n"
          ]
        }
      ]
    },
    {
      "cell_type": "code",
      "source": [
        "# We can also store and collect them using arrays that contain strings and numbers.\n",
        "\n",
        "Friends = [\"Me\",\"Myself\",\"Chowder\"]\n",
        "for names in Friends:\n",
        "  print(names)"
      ],
      "metadata": {
        "colab": {
          "base_uri": "https://localhost:8080/"
        },
        "id": "lLgYXpxWuSiV",
        "outputId": "c1a168c4-a0da-458f-a54a-173a7acccfcd"
      },
      "execution_count": null,
      "outputs": [
        {
          "output_type": "stream",
          "name": "stdout",
          "text": [
            "Me\n",
            "Myself\n",
            "Chowder\n"
          ]
        }
      ]
    },
    {
      "cell_type": "code",
      "source": [
        "for index in range(55) :\n",
        "  print(index)"
      ],
      "metadata": {
        "colab": {
          "base_uri": "https://localhost:8080/"
        },
        "id": "3cYbTd3gv89l",
        "outputId": "4d547fb8-7b23-4624-e555-aa2851bfbb36"
      },
      "execution_count": null,
      "outputs": [
        {
          "output_type": "stream",
          "name": "stdout",
          "text": [
            "0\n",
            "1\n",
            "2\n",
            "3\n",
            "4\n",
            "5\n",
            "6\n",
            "7\n",
            "8\n",
            "9\n",
            "10\n",
            "11\n",
            "12\n",
            "13\n",
            "14\n",
            "15\n",
            "16\n",
            "17\n",
            "18\n",
            "19\n",
            "20\n",
            "21\n",
            "22\n",
            "23\n",
            "24\n",
            "25\n",
            "26\n",
            "27\n",
            "28\n",
            "29\n",
            "30\n",
            "31\n",
            "32\n",
            "33\n",
            "34\n",
            "35\n",
            "36\n",
            "37\n",
            "38\n",
            "39\n",
            "40\n",
            "41\n",
            "42\n",
            "43\n",
            "44\n",
            "45\n",
            "46\n",
            "47\n",
            "48\n",
            "49\n",
            "50\n",
            "51\n",
            "52\n",
            "53\n",
            "54\n"
          ]
        }
      ]
    },
    {
      "cell_type": "code",
      "source": [
        "# Complex in Python.\n",
        "\n",
        "for index in range (3): \n",
        "  if index == 0:\n",
        "    print(\"YAY\")\n",
        "  else :\n",
        "     print(\"NA\")\n"
      ],
      "metadata": {
        "colab": {
          "base_uri": "https://localhost:8080/"
        },
        "id": "wUZMHbQ8wIz5",
        "outputId": "a85e1339-f361-45ad-b1ae-0f91d6d029bf"
      },
      "execution_count": null,
      "outputs": [
        {
          "output_type": "stream",
          "name": "stdout",
          "text": [
            "YAY\n",
            "NA\n",
            "NA\n"
          ]
        }
      ]
    },
    {
      "cell_type": "code",
      "source": [
        "# Exponent Function\n",
        "\n",
        "# Taking acertain number and raising it to a certain power.\n",
        "\n",
        "# We are going to be using \"for loops\" to expand our exponent function.\n",
        "\n",
        "def raise_to_pow (base_num,pow_num) : \n",
        "  result = 1 \n",
        "for index in range (pow_num):\n",
        " \n",
        "  result = result * base_num \n",
        "  return result\n",
        "  \n",
        "\n",
        "  print(raise_to_power(4,3))\n",
        "  "
      ],
      "metadata": {
        "id": "l52D-TNtxmYS"
      },
      "execution_count": null,
      "outputs": []
    },
    {
      "cell_type": "code",
      "source": [
        "# 2D lists and Nested loops\n",
        "\n",
        "# We would like to access ceratain lists elements within the list.\n",
        "\n",
        "number_grid=[\n",
        "  \n",
        "  [1,2,3],      # across is rows\n",
        "  [4,5,6],\n",
        "  [7,8,9],\n",
        "  [0]           # downward are columns\n",
        "]\n",
        "print =(number_grid[2][0])"
      ],
      "metadata": {
        "id": "MBl1NjXpkOFe"
      },
      "execution_count": 24,
      "outputs": []
    },
    {
      "cell_type": "code",
      "source": [
        "# Translator\n",
        "\n",
        "# We can take a string or a word ana translate it into a different/required langauge.\n",
        "\n",
        "def translate(phrase):\n",
        "  translation =\"\"\n",
        "  for  letter in phrase:\n",
        "    if letter in \"AEIOUaeiou\" :\n",
        "      translation = translation + p\n",
        "\n",
        "    else :\n",
        "       translation = translation + letter\n",
        "       return translation\n",
        "\n",
        "print=(translate(input(\"Enter a phrase\")))\n",
        "\n"
      ],
      "metadata": {
        "colab": {
          "base_uri": "https://localhost:8080/"
        },
        "id": "OLGnVSdNxgvk",
        "outputId": "cd892603-d385-4015-a819-af8e315a3332"
      },
      "execution_count": 30,
      "outputs": [
        {
          "name": "stdout",
          "output_type": "stream",
          "text": [
            "Enter a phrase Dog\n"
          ]
        }
      ]
    },
    {
      "cell_type": "code",
      "source": [
        "#Comments\n",
        "\n",
        "# You use a # when commenting on your code.\n",
        "\n",
        "# it can be used to also \"block out\" unwanted line of code."
      ],
      "metadata": {
        "id": "1zIxL0yl1ePw"
      },
      "execution_count": null,
      "outputs": []
    },
    {
      "cell_type": "code",
      "source": [
        "# Try Except\n",
        "\n",
        "# The useful in a input user function e.g when you a user to enter a number and they enter a string.\n",
        "\n",
        "# You then use \"TRY EXCEPT\" to handle this error and inform the user they entered a wrong value.\n",
        "\n",
        "try :\n",
        "  number =int(input(\"Enter a number\"))\n",
        "  print(number)\n",
        "\n",
        "except :\n",
        "  print= (\"Invalid\")\n"
      ],
      "metadata": {
        "colab": {
          "base_uri": "https://localhost:8080/"
        },
        "id": "T-yr_3JA14rn",
        "outputId": "f328cc3f-eeb9-4c90-e85d-004ed23c6324"
      },
      "execution_count": 35,
      "outputs": [
        {
          "name": "stdout",
          "output_type": "stream",
          "text": [
            "Enter a number thg\n"
          ]
        }
      ]
    },
    {
      "cell_type": "code",
      "source": [
        "# you also dont want to say just \"except\" , you gonna need to be more define.\n",
        "\n",
        "# by using a function for a specific error.\n",
        "\n",
        "try :\n",
        "  answer = 10/0\n",
        "  number = int(input(\"Enter a number :\"))\n",
        "  print(number)\n",
        "\n",
        "except ZeroDivisionError as error :\n",
        " print=(error)\n",
        "except ValueError :\n",
        " print(Invalid)"
      ],
      "metadata": {
        "id": "2cuTpNSs3xMX"
      },
      "execution_count": 40,
      "outputs": []
    },
    {
      "cell_type": "code",
      "source": [
        "from os import close\n",
        "# Reading command\n",
        "\n",
        "# How we can open and close a file.\n",
        "\n",
        "# The resource i got the information from was freecodecamp, and the youtuber used his own personal files under the name\n",
        "\"employees.txt\"\n",
        "\n",
        "employee_file = open(\"employees.txt\",\"r\")\n",
        "employee_file = close\n",
        "\n",
        "# How to get information from within the file.\n",
        "\n",
        "employee_file = open(\"employees.txt\",\"r\")\n",
        "for employee in employee_file.readlines() :\n",
        "     print(employee)\n",
        "\n",
        "employee.file.close()\n",
        "\n",
        "# How to writ and append existing files.\n",
        "\n",
        "employee_file = open(\"employees.txt\",\"r\")\n",
        "employee_file.write(/nToby)\n",
        "employee_file = close ()"
      ],
      "metadata": {
        "id": "DZwVoAjx3xEH"
      },
      "execution_count": null,
      "outputs": []
    }
  ]
}